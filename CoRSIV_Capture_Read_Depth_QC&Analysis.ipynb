{
 "cells": [
  {
   "cell_type": "markdown",
   "metadata": {},
   "source": [
    "# USC Glioma CoRSIV Capture Sequencing Read Depth Analysis"
   ]
  },
  {
   "cell_type": "markdown",
   "metadata": {},
   "source": [
    "## Loading covariated files ..."
   ]
  },
  {
   "cell_type": "code",
   "execution_count": 2,
   "metadata": {},
   "outputs": [],
   "source": [
    "USC_Sample_ID_table <- read.table(\"./USC_pediatric_glioma_alignments/sample_id_table1.txt\",header = T)\n",
    "Covariate_table <- read.table(\"./USC_pediatric_glioma_alignments/Baylor_covariate_file.txt\",header = T)\n",
    "temp_table <- merge(USC_Sample_ID_table,Covariate_table,by.x = \"ID2\",by.y = \"Blindid\")\n",
    "temp_table$merged_col <- paste(temp_table$ID1,temp_table$Case_status,sep = \"_\")\n",
    "temp_table <- temp_table[order(temp_table$ID1),]"
   ]
  },
  {
   "cell_type": "markdown",
   "metadata": {},
   "source": [
    "### The covariates file looks like follows. This table will be used to identiy sample case / control status"
   ]
  },
  {
   "cell_type": "code",
   "execution_count": 4,
   "metadata": {},
   "outputs": [
    {
     "data": {
      "text/html": [
       "<table>\n",
       "<caption>A data.frame: 6 × 8</caption>\n",
       "<thead>\n",
       "\t<tr><th></th><th scope=col>ID2</th><th scope=col>ID1</th><th scope=col>Case_status</th><th scope=col>Tumor_histology</th><th scope=col>Gender</th><th scope=col>Race</th><th scope=col>Matching_ID</th><th scope=col>merged_col</th></tr>\n",
       "\t<tr><th></th><th scope=col>&lt;int&gt;</th><th scope=col>&lt;fct&gt;</th><th scope=col>&lt;fct&gt;</th><th scope=col>&lt;fct&gt;</th><th scope=col>&lt;fct&gt;</th><th scope=col>&lt;fct&gt;</th><th scope=col>&lt;int&gt;</th><th scope=col>&lt;chr&gt;</th></tr>\n",
       "</thead>\n",
       "<tbody>\n",
       "\t<tr><th scope=row>13</th><td>494147</td><td>USC_01</td><td>case   </td><td>Glioblastoma          </td><td>Male  </td><td>white</td><td>3168123</td><td>USC_01_case   </td></tr>\n",
       "\t<tr><th scope=row>3</th><td> 53755</td><td>USC_02</td><td>control</td><td>MATCHED_CONTROL       </td><td>Male  </td><td>white</td><td>2469312</td><td>USC_02_control</td></tr>\n",
       "\t<tr><th scope=row>21</th><td>740189</td><td>USC_03</td><td>case   </td><td>Glioblastoma          </td><td>Male  </td><td>white</td><td>2677136</td><td>USC_03_case   </td></tr>\n",
       "\t<tr><th scope=row>2</th><td> 20438</td><td>USC_04</td><td>case   </td><td>Anaplastic_astrocytoma</td><td>Male  </td><td>white</td><td>4036151</td><td>USC_04_case   </td></tr>\n",
       "\t<tr><th scope=row>14</th><td>495067</td><td>USC_05</td><td>case   </td><td>Glioblastoma          </td><td>Female</td><td>white</td><td>3208750</td><td>USC_05_case   </td></tr>\n",
       "\t<tr><th scope=row>4</th><td> 73887</td><td>USC_06</td><td>case   </td><td>Anaplastic_astrocytoma</td><td>Female</td><td>white</td><td>1702653</td><td>USC_06_case   </td></tr>\n",
       "</tbody>\n",
       "</table>\n"
      ],
      "text/latex": [
       "A data.frame: 6 × 8\n",
       "\\begin{tabular}{r|llllllll}\n",
       "  & ID2 & ID1 & Case\\_status & Tumor\\_histology & Gender & Race & Matching\\_ID & merged\\_col\\\\\n",
       "  & <int> & <fct> & <fct> & <fct> & <fct> & <fct> & <int> & <chr>\\\\\n",
       "\\hline\n",
       "\t13 & 494147 & USC\\_01 & case    & Glioblastoma           & Male   & white & 3168123 & USC\\_01\\_case   \\\\\n",
       "\t3 &  53755 & USC\\_02 & control & MATCHED\\_CONTROL        & Male   & white & 2469312 & USC\\_02\\_control\\\\\n",
       "\t21 & 740189 & USC\\_03 & case    & Glioblastoma           & Male   & white & 2677136 & USC\\_03\\_case   \\\\\n",
       "\t2 &  20438 & USC\\_04 & case    & Anaplastic\\_astrocytoma & Male   & white & 4036151 & USC\\_04\\_case   \\\\\n",
       "\t14 & 495067 & USC\\_05 & case    & Glioblastoma           & Female & white & 3208750 & USC\\_05\\_case   \\\\\n",
       "\t4 &  73887 & USC\\_06 & case    & Anaplastic\\_astrocytoma & Female & white & 1702653 & USC\\_06\\_case   \\\\\n",
       "\\end{tabular}\n"
      ],
      "text/markdown": [
       "\n",
       "A data.frame: 6 × 8\n",
       "\n",
       "| <!--/--> | ID2 &lt;int&gt; | ID1 &lt;fct&gt; | Case_status &lt;fct&gt; | Tumor_histology &lt;fct&gt; | Gender &lt;fct&gt; | Race &lt;fct&gt; | Matching_ID &lt;int&gt; | merged_col &lt;chr&gt; |\n",
       "|---|---|---|---|---|---|---|---|---|\n",
       "| 13 | 494147 | USC_01 | case    | Glioblastoma           | Male   | white | 3168123 | USC_01_case    |\n",
       "| 3 |  53755 | USC_02 | control | MATCHED_CONTROL        | Male   | white | 2469312 | USC_02_control |\n",
       "| 21 | 740189 | USC_03 | case    | Glioblastoma           | Male   | white | 2677136 | USC_03_case    |\n",
       "| 2 |  20438 | USC_04 | case    | Anaplastic_astrocytoma | Male   | white | 4036151 | USC_04_case    |\n",
       "| 14 | 495067 | USC_05 | case    | Glioblastoma           | Female | white | 3208750 | USC_05_case    |\n",
       "| 4 |  73887 | USC_06 | case    | Anaplastic_astrocytoma | Female | white | 1702653 | USC_06_case    |\n",
       "\n"
      ],
      "text/plain": [
       "   ID2    ID1    Case_status Tumor_histology        Gender Race  Matching_ID\n",
       "13 494147 USC_01 case        Glioblastoma           Male   white 3168123    \n",
       "3   53755 USC_02 control     MATCHED_CONTROL        Male   white 2469312    \n",
       "21 740189 USC_03 case        Glioblastoma           Male   white 2677136    \n",
       "2   20438 USC_04 case        Anaplastic_astrocytoma Male   white 4036151    \n",
       "14 495067 USC_05 case        Glioblastoma           Female white 3208750    \n",
       "4   73887 USC_06 case        Anaplastic_astrocytoma Female white 1702653    \n",
       "   merged_col    \n",
       "13 USC_01_case   \n",
       "3  USC_02_control\n",
       "21 USC_03_case   \n",
       "2  USC_04_case   \n",
       "14 USC_05_case   \n",
       "4  USC_06_case   "
      ]
     },
     "metadata": {},
     "output_type": "display_data"
    }
   ],
   "source": [
    "head(temp_table)"
   ]
  },
  {
   "cell_type": "code",
   "execution_count": null,
   "metadata": {},
   "outputs": [],
   "source": []
  },
  {
   "cell_type": "code",
   "execution_count": null,
   "metadata": {},
   "outputs": [],
   "source": []
  }
 ],
 "metadata": {
  "kernelspec": {
   "display_name": "R",
   "language": "R",
   "name": "ir"
  },
  "language_info": {
   "codemirror_mode": "r",
   "file_extension": ".r",
   "mimetype": "text/x-r-source",
   "name": "R",
   "pygments_lexer": "r",
   "version": "3.6.2"
  }
 },
 "nbformat": 4,
 "nbformat_minor": 2
}
